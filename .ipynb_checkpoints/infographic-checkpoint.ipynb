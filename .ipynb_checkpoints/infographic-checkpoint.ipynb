{
 "cells": [
  {
   "cell_type": "markdown",
   "id": "53fab7c1-6718-424a-89ab-b7c1bc12e334",
   "metadata": {},
   "source": [
    "# 4304 Project Infographic"
   ]
  },
  {
   "cell_type": "code",
   "execution_count": 1,
   "id": "49ac7dc1-e465-4771-a3d9-b60dafdc2c6b",
   "metadata": {},
   "outputs": [],
   "source": [
    "import pandas as pd\n",
    "import matplotlib.pyplot as plt\n",
    "import numpy as np\n",
    "import seaborn as sns\n",
    "\n",
    "import geopandas as gpd\n",
    "from mpl_toolkits.basemap import Basemap\n",
    "from geopy.geocoders import Nominatim\n",
    "import time"
   ]
  },
  {
   "cell_type": "markdown",
   "id": "77811b63-49b5-425b-b300-49bbfb649936",
   "metadata": {},
   "source": [
    "___________________"
   ]
  },
  {
   "cell_type": "code",
   "execution_count": 2,
   "id": "b48183aa-e822-409e-9fb4-10003c1c15c8",
   "metadata": {},
   "outputs": [],
   "source": [
    "df = pd.read_csv('satcat.tsv', sep='\\t', low_memory=False)"
   ]
  },
  {
   "cell_type": "code",
   "execution_count": 3,
   "id": "db9db62f-efa6-47e4-8535-44f104087e5e",
   "metadata": {},
   "outputs": [],
   "source": [
    "orgs = pd.read_csv(\"orgs.tsv\", sep=\"\\t\", usecols=[\"#Code\", \"Class\", \"ShortName\"]).drop(0)\n",
    "orgs.rename(columns={\"#Code\": \"Owner\"}, inplace=True)"
   ]
  },
  {
   "cell_type": "code",
   "execution_count": 4,
   "id": "c8c02464-7971-4672-b6dc-1c446108b467",
   "metadata": {},
   "outputs": [],
   "source": [
    "class_mapping = {\n",
    "    \"A\": \"Academic/Non-Profit\",\n",
    "    \"B\": \"Business/Commercial\",\n",
    "    \"C\": \"Civil Government\",\n",
    "    \"D\": \"Defense/Military\"\n",
    "}\n",
    "\n",
    "orbit_mapping = {\n",
    "    'LEO': ['LEO/I', 'LLEO/I', 'LEO/P', 'LLEO/P', 'LEO/S', 'LEO/E', 'LEO/R', 'LLEO/R', 'LLEO/S', 'LLEO/E'],\n",
    "    'MEO': ['MEO'],\n",
    "    'GEO': ['GEO/NS', 'GEO/T', 'GEO/S', 'GEO/D', 'GEO/I', 'GEO/ID'],\n",
    "    'GTO': ['GTO'],\n",
    "    'HEO': ['HEO', 'VHEO', 'HEO/M'],\n",
    "    'Deep Space': ['DSO', 'SO', 'CLO', 'TA'],\n",
    "    'Unclassified': ['-']\n",
    "}\n",
    "\n",
    "def get_class_for_owner(owner):\n",
    "    owners = owner.split(\"/\")\n",
    "    classes = orgs[orgs[\"Owner\"].isin(owners)][\"Class\"].unique()\n",
    "    \n",
    "    return classes[0] if len(classes) > 0 else None\n",
    "    \n",
    "def map_orbit_type(oporbit):\n",
    "    for category, types in orbit_mapping.items():\n",
    "        if oporbit in types:\n",
    "            return category\n",
    "    return 'Other'\n",
    "\n",
    "df['OrbitType'] = df['OpOrbit'].apply(map_orbit_type)\n",
    "df[\"Class\"] = df[\"Owner\"].apply(get_class_for_owner)\n",
    "df = df[df['Status'] == 'O']"
   ]
  },
  {
   "cell_type": "code",
   "execution_count": 5,
   "id": "ad25c9d9-a5d3-4ccd-8770-89e2b297b447",
   "metadata": {},
   "outputs": [],
   "source": [
    "df = df.merge(orgs[['Owner', 'ShortName']], on='Owner', how='left')"
   ]
  },
  {
   "cell_type": "markdown",
   "id": "e2803433-f9ab-43b0-b59c-e779393bdf74",
   "metadata": {},
   "source": [
    "__________________________"
   ]
  },
  {
   "cell_type": "markdown",
   "id": "d54b826b-85cc-4704-8aa5-53c6bb236b80",
   "metadata": {},
   "source": [
    "## Satellite bubble map"
   ]
  },
  {
   "cell_type": "code",
   "execution_count": 2,
   "id": "7755e82f-168e-43e9-8d3e-332674537b8b",
   "metadata": {},
   "outputs": [
    {
     "ename": "NameError",
     "evalue": "name 'df' is not defined",
     "output_type": "error",
     "traceback": [
      "\u001b[1;31m---------------------------------------------------------------------------\u001b[0m",
      "\u001b[1;31mNameError\u001b[0m                                 Traceback (most recent call last)",
      "Cell \u001b[1;32mIn[2], line 2\u001b[0m\n\u001b[0;32m      1\u001b[0m \u001b[38;5;66;03m# Count number of satellites per country\u001b[39;00m\n\u001b[1;32m----> 2\u001b[0m country_counts \u001b[38;5;241m=\u001b[39m \u001b[43mdf\u001b[49m[\u001b[38;5;124m'\u001b[39m\u001b[38;5;124mState\u001b[39m\u001b[38;5;124m'\u001b[39m]\u001b[38;5;241m.\u001b[39mvalue_counts()\u001b[38;5;241m.\u001b[39mreset_index()\n\u001b[0;32m      3\u001b[0m country_counts\u001b[38;5;241m.\u001b[39mcolumns \u001b[38;5;241m=\u001b[39m [\u001b[38;5;124m'\u001b[39m\u001b[38;5;124mCountry\u001b[39m\u001b[38;5;124m'\u001b[39m, \u001b[38;5;124m'\u001b[39m\u001b[38;5;124mSatellite_Count\u001b[39m\u001b[38;5;124m'\u001b[39m]\n\u001b[0;32m      5\u001b[0m \u001b[38;5;66;03m# Approximate country coordinates (You can refine this with a geolocation dataset)\u001b[39;00m\n",
      "\u001b[1;31mNameError\u001b[0m: name 'df' is not defined"
     ]
    }
   ],
   "source": [
    "country_counts = df['State'].value_counts().reset_index()\n",
    "country_counts.columns = ['Country', 'Satellite_Count']\n",
    "\n",
    "# Approximate country coordinates (You can refine this with a geolocation dataset)\n",
    "country_coords = {\n",
    "    'US': (-98.35, 39.50),   # USA\n",
    "    'RU': (105.32, 61.52),   # Russia\n",
    "    'CN': (104.19, 35.86),   # China\n",
    "    'IN': (78.96, 20.59),    # India\n",
    "    'EU': (10.45, 51.17),    # Europe (approximate)\n",
    "    'JP': (138.25, 36.20),   # Japan\n",
    "    'UK': (-3.43, 55.38),    # United Kingdom\n",
    "    'FR': (2.21, 46.23),     # France\n",
    "    'DE': (10.45, 51.17),    # Germany\n",
    "    'BR': (-51.93, -14.23),  # Brazil\n",
    "}\n",
    "\n",
    "# Merge country counts with coordinates\n",
    "country_counts['Coordinates'] = country_counts['Country'].map(country_coords)\n",
    "country_counts = country_counts.dropna()  # Remove missing locations\n",
    "\n",
    "# Extract lat/lon\n",
    "lons, lats, sizes = [], [], []\n",
    "for _, row in country_counts.iterrows():\n",
    "    lon, lat = row['Coordinates']\n",
    "    lats.append(lat)\n",
    "    lons.append(lon)\n",
    "    sizes.append(row['Satellite_Count'])  # Bubble size is satellite count\n",
    "\n",
    "# Normalize bubble sizes for better visualization\n",
    "sizes = [s for s in sizes]  # Adjust multiplier for clarity\n",
    "\n",
    "# Plot world map with bubbles\n",
    "plt.figure(figsize=(12, 6))\n",
    "m = Basemap(projection='robin', lon_0=0, resolution='c')\n",
    "\n",
    "m.drawcoastlines()\n",
    "m.drawcountries()\n",
    "m.fillcontinents(color='lightgray', lake_color='lightblue')\n",
    "m.drawmapboundary(fill_color='lightblue')\n",
    "\n",
    "# Convert lat/lon to map coordinates\n",
    "x, y = m(lons, lats)\n",
    "\n",
    "m.scatter(x, y, s=sizes, color='red', alpha=0.6, edgecolors='k', linewidth=0.5)\n",
    "\n",
    "# Title and legend\n",
    "plt.title(\"Global Satellite Distribution - Bubble Map\")\n",
    "plt.show()"
   ]
  },
  {
   "cell_type": "code",
   "execution_count": null,
   "id": "dfdd9163-40c0-425d-821b-def4e0f047b9",
   "metadata": {},
   "outputs": [],
   "source": []
  }
 ],
 "metadata": {
  "kernelspec": {
   "display_name": "Python 3 (ipykernel)",
   "language": "python",
   "name": "python3"
  },
  "language_info": {
   "codemirror_mode": {
    "name": "ipython",
    "version": 3
   },
   "file_extension": ".py",
   "mimetype": "text/x-python",
   "name": "python",
   "nbconvert_exporter": "python",
   "pygments_lexer": "ipython3",
   "version": "3.10.7"
  }
 },
 "nbformat": 4,
 "nbformat_minor": 5
}
