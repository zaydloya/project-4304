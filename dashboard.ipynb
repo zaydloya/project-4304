{
 "cells": [
  {
   "cell_type": "markdown",
   "id": "2a960c80-423b-4f28-a19f-feb66aca02a6",
   "metadata": {},
   "source": [
    "# 4304 Project Dashboard"
   ]
  },
  {
   "cell_type": "code",
   "execution_count": 2,
   "id": "7a05d15e-4d4a-4dbe-b092-b72e54f68657",
   "metadata": {},
   "outputs": [],
   "source": [
    "import pandas as pd\n",
    "import matplotlib.pyplot as plt\n",
    "import numpy as np\n",
    "import seaborn as sns\n",
    "import ipywidgets as widgets\n",
    "\n",
    "from ipywidgets import interact, interact_manual"
   ]
  },
  {
   "cell_type": "markdown",
   "id": "983f94f3-8cee-497f-bafb-0d1db63f458d",
   "metadata": {},
   "source": [
    "___________________"
   ]
  },
  {
   "cell_type": "code",
   "execution_count": 2,
   "id": "15a47293-d23d-46df-bd02-8252ec988581",
   "metadata": {},
   "outputs": [],
   "source": [
    "df = pd.read_csv('satcat.tsv', sep='\\t', low_memory=False)"
   ]
  },
  {
   "cell_type": "code",
   "execution_count": 3,
   "id": "0cf0ce67-e46c-4a5f-968f-c4a9f17d9066",
   "metadata": {},
   "outputs": [],
   "source": [
    "orgs = pd.read_csv(\"orgs.tsv\", sep=\"\\t\", usecols=[\"#Code\", \"Class\", \"ShortName\"]).drop(0)\n",
    "orgs.rename(columns={\"#Code\": \"Owner\"}, inplace=True)"
   ]
  },
  {
   "cell_type": "code",
   "execution_count": 4,
   "id": "5ccda6ae-605e-4bd2-92aa-25270efc8af9",
   "metadata": {},
   "outputs": [],
   "source": [
    "class_mapping = {\n",
    "    \"A\": \"Academic/Non-Profit\",\n",
    "    \"B\": \"Business/Commercial\",\n",
    "    \"C\": \"Civil Government\",\n",
    "    \"D\": \"Defense/Military\"\n",
    "}\n",
    "\n",
    "orbit_mapping = {\n",
    "    'LEO': ['LEO/I', 'LLEO/I', 'LEO/P', 'LLEO/P', 'LEO/S', 'LEO/E', 'LEO/R', 'LLEO/R', 'LLEO/S', 'LLEO/E'],\n",
    "    'MEO': ['MEO'],\n",
    "    'GEO': ['GEO/NS', 'GEO/T', 'GEO/S', 'GEO/D', 'GEO/I', 'GEO/ID'],\n",
    "    'GTO': ['GTO'],\n",
    "    'HEO': ['HEO', 'VHEO', 'HEO/M'],\n",
    "    'Deep Space': ['DSO', 'SO', 'CLO', 'TA'],\n",
    "    'Unclassified': ['-']\n",
    "}\n",
    "\n",
    "def get_class_for_owner(owner):\n",
    "    owners = owner.split(\"/\")\n",
    "    classes = orgs[orgs[\"Owner\"].isin(owners)][\"Class\"].unique()\n",
    "    \n",
    "    return classes[0] if len(classes) > 0 else None\n",
    "    \n",
    "def map_orbit_type(oporbit):\n",
    "    for category, types in orbit_mapping.items():\n",
    "        if oporbit in types:\n",
    "            return category\n",
    "    return 'Other'\n",
    "\n",
    "df['OrbitType'] = df['OpOrbit'].apply(map_orbit_type)\n",
    "df[\"Class\"] = df[\"Owner\"].apply(get_class_for_owner)\n",
    "df = df[df['Status'] == 'O']"
   ]
  },
  {
   "cell_type": "code",
   "execution_count": 5,
   "id": "962414bd-e0fb-4972-93bb-212d30996fa9",
   "metadata": {},
   "outputs": [],
   "source": [
    "df = df.merge(orgs[['Owner', 'ShortName']], on='Owner', how='left')"
   ]
  },
  {
   "cell_type": "markdown",
   "id": "bd14f300-1384-4fbc-b75b-eeb555f8a575",
   "metadata": {},
   "source": [
    "__________________________"
   ]
  }
 ],
 "metadata": {
  "kernelspec": {
   "display_name": "Python 3 (ipykernel)",
   "language": "python",
   "name": "python3"
  },
  "language_info": {
   "codemirror_mode": {
    "name": "ipython",
    "version": 3
   },
   "file_extension": ".py",
   "mimetype": "text/x-python",
   "name": "python",
   "nbconvert_exporter": "python",
   "pygments_lexer": "ipython3",
   "version": "3.10.7"
  }
 },
 "nbformat": 4,
 "nbformat_minor": 5
}
